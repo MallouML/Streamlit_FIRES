{
 "cells": [
  {
   "cell_type": "markdown",
   "id": "1b3e0b41",
   "metadata": {},
   "source": [
    "streamlit run \"/Users/mallou/Documents/Projet Data/Feux_USA/Streamlit/streamlit_app.py\"\n"
   ]
  },
  {
   "cell_type": "code",
   "execution_count": 2,
   "id": "adb6b859",
   "metadata": {},
   "outputs": [],
   "source": [
    "import streamlit as st\n",
    "import pandas as pd"
   ]
  },
  {
   "cell_type": "markdown",
   "id": "e7df1cbf",
   "metadata": {},
   "source": [
    "- Ouvrir la page pour travailler en parallele\n",
    "\n",
    "- Construire la page d'accueil\n",
    "\n",
    "- Contruire page par page"
   ]
  },
  {
   "cell_type": "markdown",
   "id": "8a8a9f9e",
   "metadata": {},
   "source": [
    "st.title() : affiche un titre\n",
    "\n",
    "st.header() : affiche un deuxième titre\n",
    "\n",
    "st.subheader() : affiche un troisième titre\n",
    "\n",
    "st.markdown() : affiche du texte au format markdown\n",
    "\n",
    "st.code() : affiche du code\n",
    "\n",
    "st.image() : affiche une image (cette fonction prend en argument un np.array à 3 dimensions)\n",
    "\n",
    "st.write() : affiche du texte ou du code (équivalent à print sur un notebook)\n",
    "\n",
    "st.dataframe() : affiche un dataframe\n",
    "\n",
    "Remarque : Il faut encadrer le code classique concernant un dataframe avec cette commande. Par exemple, si le code de base est df.head(), nous écrivons st.dataframe(df.head()) pour obtenir l'affichage sur Streamlit.*\n",
    "st.button : crée un bouton\n",
    "\n",
    "st.checkbox() : crée un bouton à cocher pour obtenir l'affichage\n",
    "\n",
    "st.selectbox() : crée une boite avec différentes options pour obtenir l'affichage sélectionné\n",
    "\n",
    "st.slider() : crée un curseur de défilement permettant de sélectionner une valeur numérique parmi une plage donnée\n",
    "\n",
    "st.select_slider() : crée un curseur de défilement permettant de sélectionner une valeur non-numérique parmi une plage donnée\n"
   ]
  },
  {
   "cell_type": "markdown",
   "id": "37b9bce7",
   "metadata": {},
   "source": [
    "_____________________________________________________________________________________________________________________________________________________________________________"
   ]
  },
  {
   "cell_type": "markdown",
   "id": "f9af6073",
   "metadata": {},
   "source": [
    "Le script Python est créé et il faut maintenant utiliser le Terminal pour obtenir l'application web Streamlit. Comme vu précédemment, le Terminal permet d'executer des actions grâce à des commandes. La commande cd permet de se placer dans un dossier de l'ordinateur. La commande ls permet d'afficher tous les sous-dossiers et fichiers d'un dossier de l'ordinateur.\n",
    "\n",
    "(g) Retourner sur le Terminal (Powershell Prompt Anaconda ou Terminal classique sur MAC). En utilisant les commandes cd et ls, aller dans le dossier contenant le script Python .py et afficher tous les éléments de ce dossier. Le script Python créé devrait s'afficher. Dans l'exemple présenté ici, nous devons taper les commandes suivantes dans le Terminal :\n",
    "\n",
    "cd Documents\n",
    "\n",
    "cd DataScientest\n",
    "\n",
    "ls"
   ]
  },
  {
   "cell_type": "markdown",
   "id": "be98a4e4",
   "metadata": {},
   "source": [
    "(h) Créer l'application web en tapant la commande streamlit run script.py (où script.py est le nom de votre script Python) dans le Terminal et en appuyant sur la touchée Entrée.\n",
    "\n",
    "streamlit run streamlit.py"
   ]
  },
  {
   "cell_type": "markdown",
   "id": "e19cf126",
   "metadata": {},
   "source": []
  }
 ],
 "metadata": {
  "kernelspec": {
   "display_name": "Python (FEUX USA)",
   "language": "python",
   "name": "feux_usa_env"
  },
  "language_info": {
   "codemirror_mode": {
    "name": "ipython",
    "version": 3
   },
   "file_extension": ".py",
   "mimetype": "text/x-python",
   "name": "python",
   "nbconvert_exporter": "python",
   "pygments_lexer": "ipython3",
   "version": "3.11.11"
  }
 },
 "nbformat": 4,
 "nbformat_minor": 5
}
